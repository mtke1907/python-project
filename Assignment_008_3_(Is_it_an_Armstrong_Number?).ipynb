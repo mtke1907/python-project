{
  "nbformat": 4,
  "nbformat_minor": 0,
  "metadata": {
    "colab": {
      "name": "Assignment-008/3 (Is it an Armstrong Number?)",
      "provenance": [],
      "collapsed_sections": [],
      "authorship_tag": "ABX9TyOTM8HfZae6cyyDrLCYcb4A",
      "include_colab_link": true
    },
    "kernelspec": {
      "name": "python3",
      "display_name": "Python 3"
    },
    "language_info": {
      "name": "python"
    }
  },
  "cells": [
    {
      "cell_type": "markdown",
      "metadata": {
        "id": "view-in-github",
        "colab_type": "text"
      },
      "source": [
        "<a href=\"https://colab.research.google.com/github/mtke1907/python-project/blob/main/Assignment_008_3_(Is_it_an_Armstrong_Number%3F).ipynb\" target=\"_parent\"><img src=\"https://colab.research.google.com/assets/colab-badge.svg\" alt=\"Open In Colab\"/></a>"
      ]
    },
    {
      "cell_type": "markdown",
      "metadata": {
        "id": "F6uwC6s1pgjU"
      },
      "source": [
        "Find out if a given number is an \"Armstrong Number\".\n",
        "\n",
        "An n-digit number that is the sum of the nth powers of its digits is called an n-Armstrong number. Examples :\n",
        "371 = 33 + 73 + 13;\n",
        "9474 = 94 + 44 + 74 + 44;\n",
        "93084 = 95 + 35 + 05 + 85 + 45.\n",
        "\n",
        "Write a Python program that;\n",
        "takes a positive integer number from the user,\n",
        "checks the entered number if it is Armstrong,\n",
        "consider the negative, float and any entries other than numeric values then display a warning message to the user.\n"
      ]
    },
    {
      "cell_type": "code",
      "metadata": {
        "colab": {
          "base_uri": "https://localhost:8080/"
        },
        "id": "hjQSLSaQp8H8",
        "outputId": "e783128a-4312-4216-b1e9-87f72566f53b"
      },
      "source": [
        "num = int(input(\"Enter a number: \"))\n",
        "sum = 0\n",
        "temp = num\n",
        "while temp > 0 :\n",
        "    digit = temp % 10\n",
        "    sum += digit **3\n",
        "    temp //= 10\n",
        "if num == sum :\n",
        "    print(num, \"is an Armstrong number\")\n",
        "else :\n",
        "    print(num, \"is not an Armstrong number\")"
      ],
      "execution_count": null,
      "outputs": [
        {
          "output_type": "stream",
          "text": [
            "Enter a number: 153\n",
            "153 is an Armstrong number\n"
          ],
          "name": "stdout"
        }
      ]
    }
  ]
}