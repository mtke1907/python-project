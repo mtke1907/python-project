{
  "nbformat": 4,
  "nbformat_minor": 0,
  "metadata": {
    "colab": {
      "name": "Assignment-008/2 (Covid-19 Risk)",
      "provenance": [],
      "collapsed_sections": [],
      "authorship_tag": "ABX9TyPWH2pkNrwyPHKARBufB+P7",
      "include_colab_link": true
    },
    "kernelspec": {
      "name": "python3",
      "display_name": "Python 3"
    },
    "language_info": {
      "name": "python"
    }
  },
  "cells": [
    {
      "cell_type": "markdown",
      "metadata": {
        "id": "view-in-github",
        "colab_type": "text"
      },
      "source": [
        "<a href=\"https://colab.research.google.com/github/mtke1907/python-project/blob/main/Assignment_008_2_(Covid_19_Risk).ipynb\" target=\"_parent\"><img src=\"https://colab.research.google.com/assets/colab-badge.svg\" alt=\"Open In Colab\"/></a>"
      ]
    },
    {
      "cell_type": "markdown",
      "metadata": {
        "id": "acwPMQifumpp"
      },
      "source": [
        "Problem :\n",
        "\n",
        "Task : Estimating the risk of death from coronavirus. Write a program that;\n",
        "\n",
        "Takes \"Yes\" or \"No\" from the user as an answer to the following questions :\n",
        "\n",
        "Are you a cigarette addict older than 75 years old? Variable → age\n",
        "\n",
        "Do you have a severe chronic disease? Variable → chronic\n",
        "\n",
        "Is your immune system too weak? Variable → immune\n",
        "\n",
        "Set a logical algorithm using boolean logic operators (and/or) and use if-statements with the given variables in order to print out us a message : \"You are in risky group\"(if True ) or \"You are not in risky group\" (if False).\n"
      ]
    },
    {
      "cell_type": "code",
      "metadata": {
        "colab": {
          "base_uri": "https://localhost:8080/"
        },
        "id": "G2P9j6_InJyg",
        "outputId": "ee460981-d154-4402-a618-08b252897f25"
      },
      "source": [
        "age=  input(\"Are you a cigarette addict older than 75 years old?\").lower().strip()\n",
        "chronic = input(\"Do you have a severe chronic disease?\").lower().strip()\n",
        "immune = input(\"Is your immune system too weak?\").lower().strip()\n",
        "\n",
        "if age == \"yes\":\n",
        "    print('in risk')\n",
        "elif age == \"no\":\n",
        "    if chronic == \"yes\":\n",
        "        print('in risk')\n",
        "    elif chronic == \"no\":\n",
        "        if immune == \"yes\":\n",
        "            print(\"in risk\")\n",
        "        elif immune == \"no\":\n",
        "             print(\" yasiyosun bu hayati\")\n",
        "        else:\n",
        "            print('gecerli immue deger girin')\n",
        "    else:\n",
        "        print('gecerli chorinic deger girin')\n",
        "else:\n",
        "    print('gecerli age deger girin')"
      ],
      "execution_count": null,
      "outputs": [
        {
          "output_type": "stream",
          "text": [
            "Are you a cigarette addict older than 75 years old?no\n",
            "Do you have a severe chronic disease?no\n",
            "Is your immune system too weak?no\n",
            " yasiyosun bu hayati\n"
          ],
          "name": "stdout"
        }
      ]
    }
  ]
}