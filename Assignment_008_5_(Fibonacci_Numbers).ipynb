{
  "nbformat": 4,
  "nbformat_minor": 0,
  "metadata": {
    "colab": {
      "name": "Assignment-008/5 (Fibonacci Numbers)",
      "provenance": [],
      "collapsed_sections": [],
      "authorship_tag": "ABX9TyNcfxdANqh8UQ7DMLwcBzC+",
      "include_colab_link": true
    },
    "kernelspec": {
      "name": "python3",
      "display_name": "Python 3"
    },
    "language_info": {
      "name": "python"
    }
  },
  "cells": [
    {
      "cell_type": "markdown",
      "metadata": {
        "id": "view-in-github",
        "colab_type": "text"
      },
      "source": [
        "<a href=\"https://colab.research.google.com/github/mtke1907/python-project/blob/main/Assignment_008_5_(Fibonacci_Numbers).ipynb\" target=\"_parent\"><img src=\"https://colab.research.google.com/assets/colab-badge.svg\" alt=\"Open In Colab\"/></a>"
      ]
    },
    {
      "cell_type": "markdown",
      "metadata": {
        "id": "oqvBMjyW60bD"
      },
      "source": [
        "Task : Create a list consisting of Fibonacci numbers from 1 to 55 using control flow statements.\n",
        "\n",
        "The desired output is like :\n",
        "\n",
        "fibonacci →  [1, 1, 2, 3, 5, 8, 13, 21, 34, 55]"
      ]
    },
    {
      "cell_type": "code",
      "metadata": {
        "id": "WQ8eRNMe6yzg",
        "colab": {
          "base_uri": "https://localhost:8080/"
        },
        "outputId": "eaf00df4-9ffd-4da0-9e5e-699eeecf40b0"
      },
      "source": [
        "fibbo = int(input(\"How many expressions would you like to print? \"))\n",
        "\n",
        "a1, a2 = 0, 1\n",
        "count = 0\n",
        "\n",
        "if fibbo <= 0:\n",
        "   print(\"Please enter a positive number\")\n",
        "elif fibbo == 1:\n",
        "   print(\"Fibonacci sequence upto\",fibbo,\":\")\n",
        "   print(a1)\n",
        "else:\n",
        "   print(\"Fibonacci sequence:\")\n",
        "   while count < fibbo:\n",
        "       print(a1)\n",
        "       atop = a1 + a2\n",
        "       a1 = a2\n",
        "       a2 = atop\n",
        "       count += 1\n",
        "  "
      ],
      "execution_count": 11,
      "outputs": [
        {
          "output_type": "stream",
          "text": [
            "How many expressions would you like to print? 10\n",
            "Fibonacci sequence:\n",
            "0\n",
            "1\n",
            "1\n",
            "2\n",
            "3\n",
            "5\n",
            "8\n",
            "13\n",
            "21\n",
            "34\n"
          ],
          "name": "stdout"
        }
      ]
    }
  ]
}