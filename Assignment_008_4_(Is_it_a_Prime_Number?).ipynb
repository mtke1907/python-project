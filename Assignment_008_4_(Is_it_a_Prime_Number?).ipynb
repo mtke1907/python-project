{
  "nbformat": 4,
  "nbformat_minor": 0,
  "metadata": {
    "colab": {
      "name": "Assignment-008/4 (Is it a Prime Number?)",
      "provenance": [],
      "collapsed_sections": [],
      "authorship_tag": "ABX9TyPaNnK/MNTHYfFNRjxLNOx2",
      "include_colab_link": true
    },
    "kernelspec": {
      "name": "python3",
      "display_name": "Python 3"
    },
    "language_info": {
      "name": "python"
    }
  },
  "cells": [
    {
      "cell_type": "markdown",
      "metadata": {
        "id": "view-in-github",
        "colab_type": "text"
      },
      "source": [
        "<a href=\"https://colab.research.google.com/github/mtke1907/python-project/blob/main/Assignment_008_4_(Is_it_a_Prime_Number%3F).ipynb\" target=\"_parent\"><img src=\"https://colab.research.google.com/assets/colab-badge.svg\" alt=\"Open In Colab\"/></a>"
      ]
    },
    {
      "cell_type": "markdown",
      "metadata": {
        "id": "w_KUtp8Bvc2z"
      },
      "source": [
        "Task : Write a program that takes a number from the user and prints the result to check if it is a prime number.\n",
        "\n",
        "The examples of the desired output are as follows :\n",
        "\n",
        "input →  19 ⇉ output : 19 is a prime number\n",
        "input →  10 ⇉ output : 10 is not a prime number\n",
        "Note that ⚠: This question is famous on the web, so to get more benefit from this assignment, try to complete this task on your own. "
      ]
    },
    {
      "cell_type": "code",
      "metadata": {
        "id": "PDgmXXIYvayx"
      },
      "source": [
        "num = int(input(\"Enter a number :\"))\n",
        "flag = False\n",
        "if num > 1:\n",
        "    for i in range(2, num):\n",
        "        if (num % i) == 0:\n",
        "            flag = True\n",
        "            break\n",
        "if flag:\n",
        "    print(num, \"is not a prime number\")\n",
        "else:\n",
        "    print(num, \"is a prime number\")"
      ],
      "execution_count": null,
      "outputs": []
    }
  ]
}