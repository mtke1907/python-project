{
  "nbformat": 4,
  "nbformat_minor": 0,
  "metadata": {
    "colab": {
      "name": "Assignment-008/1 (Password Reminder)",
      "provenance": [],
      "collapsed_sections": [],
      "authorship_tag": "ABX9TyMtNeqaFkxuo56GErLdS/LY",
      "include_colab_link": true
    },
    "kernelspec": {
      "name": "python3",
      "display_name": "Python 3"
    },
    "language_info": {
      "name": "python"
    }
  },
  "cells": [
    {
      "cell_type": "markdown",
      "metadata": {
        "id": "view-in-github",
        "colab_type": "text"
      },
      "source": [
        "<a href=\"https://colab.research.google.com/github/mtke1907/python-project/blob/main/Assignment_008_1_(Password_Reminder).ipynb\" target=\"_parent\"><img src=\"https://colab.research.google.com/assets/colab-badge.svg\" alt=\"Open In Colab\"/></a>"
      ]
    },
    {
      "cell_type": "markdown",
      "metadata": {
        "id": "0qWTRwQIu-pt"
      },
      "source": [
        "Task : Let's say; you left a message in the past that prints a password you need. To see the password you wrote, you need to enter your name and the program should recognize you.\n",
        "Write a program that \n",
        "\n",
        "Takes the first name from the user and compares it to yours,\n",
        "Then if the name the user entered is the same as yours, print out such as : \"Hello, Joseph! The password is : W@12\",\n",
        "If the name the user entered is not the same as yours, print out such as : \"Hello, Amina! See you later.\""
      ]
    },
    {
      "cell_type": "code",
      "metadata": {
        "colab": {
          "base_uri": "https://localhost:8080/"
        },
        "id": "29oLYVALoeP7",
        "outputId": "5044b637-58bd-44e8-b0fd-813756b064df"
      },
      "source": [
        "pasword = input(\"Enter your name :\")\n",
        "\n",
        "if pasword.title()== \"Joseph\":\n",
        "   print(\"Hello, Joseph! The password is : W@12\")\n",
        "   \n",
        "else :\n",
        "    print(\"Hello,\", pasword + \"!\", \"See you later.\")\n"
      ],
      "execution_count": null,
      "outputs": [
        {
          "output_type": "stream",
          "text": [
            "Enter your name :mustafa\n",
            "Hello, mustafa! See you later.\n"
          ],
          "name": "stdout"
        }
      ]
    }
  ]
}